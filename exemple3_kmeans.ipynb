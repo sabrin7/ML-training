{
 "cells": [
  {
   "cell_type": "code",
   "execution_count": 1,
   "metadata": {},
   "outputs": [],
   "source": [
    "# Alg de kmeans\n",
    "# initialiser les moyennes (centroides) des clusters (groupes)\n",
    "# Pour t=0 -> Tmax:\n",
    "#    1. determiner les clusters à partir des moyennes\n",
    "#    2. mise-a-jour des moyennes\n",
    "#    [3. verfication de la convergence]"
   ]
  },
  {
   "cell_type": "code",
   "execution_count": 2,
   "metadata": {},
   "outputs": [
    {
     "data": {
      "text/plain": [
       "array([[12, 10],\n",
       "       [11, 11]])"
      ]
     },
     "execution_count": 2,
     "metadata": {},
     "output_type": "execute_result"
    }
   ],
   "source": [
    "# initialiser les moyennes (centroides) des clusters (groupes)\n",
    "import numpy as np\n",
    "X=np.array([[1,4],[2,4],[2,3],[3,3],[10,10],[12,10],[12,9],[11,11]])\n",
    "# nombre de clusters\n",
    "K=2 \n",
    "# dimension de matrice des donnees\n",
    "N,dim=X.shape\n",
    "indices=np.arange(0,N,1)\n",
    "K_indices=np.random.choice(indices,K)\n",
    "X[K_indices,:]"
   ]
  },
  {
   "cell_type": "code",
   "execution_count": 3,
   "metadata": {},
   "outputs": [],
   "source": [
    "def initialiser_moyennes(X,K):\n",
    "    N,dim=X.shape\n",
    "    indices=np.arange(0,N,1)\n",
    "    K_indices=np.random.choice(indices,K)\n",
    "    M=X[K_indices,:]\n",
    "    return M"
   ]
  },
  {
   "cell_type": "code",
   "execution_count": 4,
   "metadata": {},
   "outputs": [
    {
     "data": {
      "text/plain": [
       "array([[11, 11],\n",
       "       [ 2,  3]])"
      ]
     },
     "execution_count": 4,
     "metadata": {},
     "output_type": "execute_result"
    }
   ],
   "source": [
    "X=np.array([[1,4],[2,4],[2,3],[3,3],[10,10],[12,10],[12,9],[11,11]])\n",
    "# nombre de clusters\n",
    "K=2\n",
    "M=initialiser_moyennes(X,K)\n",
    "M"
   ]
  },
  {
   "cell_type": "code",
   "execution_count": 5,
   "metadata": {},
   "outputs": [
    {
     "data": {
      "text/plain": [
       "<Figure size 640x480 with 1 Axes>"
      ]
     },
     "metadata": {},
     "output_type": "display_data"
    }
   ],
   "source": [
    "import matplotlib.pyplot as plt\n",
    "plt.plot(X[:,0],X[:,1],'r+')\n",
    "plt.plot(M[:,0],M[:,1],'b*',markersize=10)\n",
    "plt.show()"
   ]
  },
  {
   "cell_type": "code",
   "execution_count": 6,
   "metadata": {},
   "outputs": [],
   "source": [
    "def calcul(x,y):\n",
    "    return x+y,x*y"
   ]
  },
  {
   "cell_type": "code",
   "execution_count": 7,
   "metadata": {},
   "outputs": [
    {
     "name": "stdout",
     "output_type": "stream",
     "text": [
      "30 200\n"
     ]
    }
   ],
   "source": [
    "s,p=calcul(10,20)\n",
    "print(s,p)"
   ]
  },
  {
   "cell_type": "code",
   "execution_count": 8,
   "metadata": {},
   "outputs": [
    {
     "data": {
      "text/plain": [
       "array([[1, 4]])"
      ]
     },
     "execution_count": 8,
     "metadata": {},
     "output_type": "execute_result"
    }
   ],
   "source": [
    "# recuperer les lignes d'indices 0 et 2\n",
    "Y=X[[0,2],:]\n",
    "Y[[True,False],:]"
   ]
  },
  {
   "cell_type": "code",
   "execution_count": 9,
   "metadata": {},
   "outputs": [
    {
     "data": {
      "text/plain": [
       "1"
      ]
     },
     "execution_count": 9,
     "metadata": {},
     "output_type": "execute_result"
    }
   ],
   "source": [
    "x=np.array([10,3,8])\n",
    "np.argmin(x)"
   ]
  },
  {
   "cell_type": "code",
   "execution_count": 10,
   "metadata": {},
   "outputs": [
    {
     "data": {
      "text/plain": [
       "2"
      ]
     },
     "execution_count": 10,
     "metadata": {},
     "output_type": "execute_result"
    }
   ],
   "source": [
    "K,dim=M.shape\n",
    "K"
   ]
  },
  {
   "cell_type": "code",
   "execution_count": 11,
   "metadata": {},
   "outputs": [
    {
     "data": {
      "text/plain": [
       "1.0"
      ]
     },
     "execution_count": 11,
     "metadata": {},
     "output_type": "execute_result"
    }
   ],
   "source": [
    "def distance_euc(x1,x2):\n",
    "    dist=np.sqrt(np.dot(x1-x2,x1-x2))\n",
    "    return dist\n",
    "x1=np.array([1,1])\n",
    "x2=np.array([1,2])\n",
    "distance_euc(x1,x2)"
   ]
  },
  {
   "cell_type": "code",
   "execution_count": 12,
   "metadata": {},
   "outputs": [],
   "source": [
    "#1. determiner les clusters à partir des moyennes\n",
    "\n",
    "# fonction predict_clutser(x_n) returns cluster label\n",
    "#     D = vecteur de distances de taille K (D=np.zeros(N))\n",
    "#     Pour chaque moyenne m_i ( centre ) (ligne) de M (i=0,..,K-1)\n",
    "#           D[i]=distance(x_n,m_i)\n",
    "#     l_n=argmin(D) (l_n in {0,..,K-1})\n",
    "#     return l_n\n",
    "\n",
    "# fonction determiner_clusters(X) returns L\n",
    "#    L=vecteur des etiquettes des clusters (ln in {0,...,K-1})\n",
    "#    Pour chaque point x_n (ligne) de X (n=0,...,N-1)\n",
    "#       L[n]=predict_clutser(x_n)\n",
    "#    return L\n",
    "\n",
    "\n",
    "\n",
    "def predict_clutser(x_n,M): #returns cluster label\n",
    "    # D = vecteur de distances de taille K (D=np.zeros(N))\n",
    "    K,dim=M.shape\n",
    "    D=np.zeros(K)\n",
    "    # Pour chaque moyenne m_i ( centre ) (ligne) de M (i=0,..,K-1)\n",
    "    for i in np.arange(0,K,1):\n",
    "        # D[i]=distance(x_n,m_i)\n",
    "        D[i]=distance_euc(x_n,M[i,:])\n",
    "    l_n=np.argmin(D) #(l_n in {0,..,K-1})\n",
    "    return l_n"
   ]
  },
  {
   "cell_type": "code",
   "execution_count": 13,
   "metadata": {},
   "outputs": [
    {
     "data": {
      "text/plain": [
       "1"
      ]
     },
     "execution_count": 13,
     "metadata": {},
     "output_type": "execute_result"
    }
   ],
   "source": [
    "K=2\n",
    "M=X[[0,5],:]\n",
    "predict_clutser(X[4,:],M)"
   ]
  },
  {
   "cell_type": "code",
   "execution_count": 14,
   "metadata": {},
   "outputs": [],
   "source": [
    "def determiner_clusters(X,M): # returns L\n",
    "    #L=vecteur des etiquettes des clusters (ln in {0,...,K-1})\n",
    "    N,dim=X.shape\n",
    "    L=np.zeros(N)\n",
    "    # Pour chaque point x_n (ligne) de X (n=0,...,N-1)\n",
    "    for n in np.arange(0,N,1):\n",
    "        L[n]=predict_clutser(X[n,:],M)\n",
    "    return L"
   ]
  },
  {
   "cell_type": "code",
   "execution_count": 15,
   "metadata": {},
   "outputs": [
    {
     "data": {
      "text/plain": [
       "array([False, False, False, False,  True,  True,  True,  True])"
      ]
     },
     "execution_count": 15,
     "metadata": {},
     "output_type": "execute_result"
    }
   ],
   "source": [
    "K=2\n",
    "M=X[[0,5],:]\n",
    "L=determiner_clusters(X,M)\n",
    "L==1"
   ]
  },
  {
   "cell_type": "code",
   "execution_count": 16,
   "metadata": {},
   "outputs": [
    {
     "data": {
      "image/png": "[encoded data removed]",
      "text/plain": [
       "<Figure size 432x288 with 1 Axes>"
      ]
     },
     "metadata": {
      "needs_background": "light"
     },
     "output_type": "display_data"
    }
   ],
   "source": [
    "import matplotlib.pyplot as plt\n",
    "plt.scatter(X[L==0,0],X[L==0,1],c='red',label='cluster 0')\n",
    "plt.scatter(X[L==1,0],X[L==1,1],c='green',label='cluster 1')\n",
    "plt.scatter(M[:,0],M[:,1],c='blue',label='Moyennes')\n",
    "plt.legend()\n",
    "plt.show()"
   ]
  },
  {
   "cell_type": "code",
   "execution_count": 17,
   "metadata": {},
   "outputs": [],
   "source": [
    "#2. mise-a-jour des moyennes\n",
    "def mettre_ajour_moyennes(X,L,K): # returns M\n",
    "    N,dim=X.shape\n",
    "    M=np.zeros((K,dim))\n",
    "    for i in np.arange(0,K,1):\n",
    "        M[i,:]=np.mean(X[L==i,:],axis=0)\n",
    "    return M"
   ]
  },
  {
   "cell_type": "code",
   "execution_count": 18,
   "metadata": {},
   "outputs": [
    {
     "data": {
      "text/plain": [
       "array([[ 2.  ,  3.5 ],\n",
       "       [11.25, 10.  ]])"
      ]
     },
     "execution_count": 18,
     "metadata": {},
     "output_type": "execute_result"
    }
   ],
   "source": [
    "K=2\n",
    "M=mettre_ajour_moyennes(X,L,K)\n",
    "M"
   ]
  },
  {
   "cell_type": "code",
   "execution_count": 19,
   "metadata": {},
   "outputs": [
    {
     "data": {
      "image/png": "[encoded data removed]",
      "text/plain": [
       "<Figure size 432x288 with 1 Axes>"
      ]
     },
     "metadata": {
      "needs_background": "light"
     },
     "output_type": "display_data"
    }
   ],
   "source": [
    "import matplotlib.pyplot as plt\n",
    "plt.scatter(X[L==0,0],X[L==0,1],c='red',label='cluster 0')\n",
    "plt.scatter(X[L==1,0],X[L==1,1],c='green',label='cluster 1')\n",
    "plt.scatter(M[:,0],M[:,1],c='blue',label='Moyennes')\n",
    "plt.legend()\n",
    "plt.show()"
   ]
  },
  {
   "cell_type": "code",
   "execution_count": 20,
   "metadata": {},
   "outputs": [
    {
     "data": {
      "image/png": "[encoded data removed]",
      "text/plain": [
       "<Figure size 432x288 with 1 Axes>"
      ]
     },
     "metadata": {
      "needs_background": "light"
     },
     "output_type": "display_data"
    }
   ],
   "source": [
    "# Alg de kmeans\n",
    "# initialiser les moyennes (centroides) des clusters (groupes)\n",
    "# Pour t=0 -> Tmax:\n",
    "#    1. determiner les clusters à partir des moyennes\n",
    "#    2. mise-a-jour des moyennes\n",
    "#    [3. verfication de la convergence]\n",
    "\n",
    "X=np.array([[1,4],[2,4],[2,3],[3,3],[10,10],[12,10],[12,9],[11,11],[13,13.5],[13,15]])\n",
    "# nombre de clusters\n",
    "K=2\n",
    "Tmax=5\n",
    "M=initialiser_moyennes(X,K)\n",
    "for t in np.arange(0,Tmax,1):\n",
    "    L=determiner_clusters(X,M)\n",
    "    M=mettre_ajour_moyennes(X,L,K)\n",
    "\n",
    "\n",
    "import matplotlib.pyplot as plt\n",
    "plt.scatter(X[L==0,0],X[L==0,1],c='red',label='cluster 0')\n",
    "plt.scatter(X[L==1,0],X[L==1,1],c='green',label='cluster 1')\n",
    "plt.scatter(M[:,0],M[:,1],c='blue',label='Moyennes')\n",
    "plt.legend()\n",
    "plt.show()"
   ]
  },
  {
   "cell_type": "code",
   "execution_count": 21,
   "metadata": {},
   "outputs": [
    {
     "data": {
      "text/plain": [
       "array([0., 1.])"
      ]
     },
     "execution_count": 21,
     "metadata": {},
     "output_type": "execute_result"
    }
   ],
   "source": [
    "X_test=np.array([[0,5],[18,17]])\n",
    "determiner_clusters(X_test,M)"
   ]
  },
  {
   "cell_type": "code",
   "execution_count": 22,
   "metadata": {},
   "outputs": [
    {
     "data": {
      "text/plain": [
       "array([0., 0., 0., 0., 1., 1., 1., 1., 1., 1.])"
      ]
     },
     "execution_count": 22,
     "metadata": {},
     "output_type": "execute_result"
    }
   ],
   "source": [
    "L"
   ]
  },
  {
   "cell_type": "code",
   "execution_count": null,
   "metadata": {},
   "outputs": [],
   "source": []
  }
 ],
 "metadata": {
  "kernelspec": {
   "display_name": "Python 3",
   "language": "python",
   "name": "python3"
  },
  "language_info": {
   "codemirror_mode": {
    "name": "ipython",
    "version": 3
   },
   "file_extension": ".py",
   "mimetype": "text/x-python",
   "name": "python",
   "nbconvert_exporter": "python",
   "pygments_lexer": "ipython3",
   "version": "3.7.1"
  }
 },
 "nbformat": 4,
 "nbformat_minor": 2
}
